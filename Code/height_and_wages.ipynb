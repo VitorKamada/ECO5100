{
  "nbformat": 4,
  "nbformat_minor": 0,
  "metadata": {
    "colab": {
      "name": "height and wages.ipynb",
      "provenance": []
    },
    "kernelspec": {
      "name": "python3",
      "display_name": "Python 3"
    }
  },
  "cells": [
    {
      "cell_type": "markdown",
      "metadata": {
        "id": "e78F26jPp5Oy",
        "colab_type": "text"
      },
      "source": [
        "**ECO 5100 Introductory Statistics and Econometrics (Fall 2019)**"
      ]
    },
    {
      "cell_type": "markdown",
      "metadata": {
        "id": "4IjlsjlZnL6j",
        "colab_type": "text"
      },
      "source": [
        "**Regression - Height and Wages**"
      ]
    },
    {
      "cell_type": "markdown",
      "metadata": {
        "id": "YKUVvesumu1s",
        "colab_type": "text"
      },
      "source": [
        "Persico, Postlewaite, and Silverman (2004) analyzed data from the National Longitudinal\n",
        "Survey of Youth (NLSY) 1979 cohort to assess the relationship between height and\n",
        "wages for white men. Here we explore the relationship between height and wages for the\n",
        "full sample, which includes men and women and all races. The NLSY is a nationally\n",
        "representative sample of 12,686 young men and women who were 14 to 22 years old\n",
        "when first surveyed in 1979. These individuals were interviewed annually through 1994\n",
        "and biannually after that."
      ]
    },
    {
      "cell_type": "markdown",
      "metadata": {
        "id": "Q0cFw_Laxjmd",
        "colab_type": "text"
      },
      "source": [
        "In a 2004 article published in the Journal of Political Economy, Nicola Persico, Andrew Postlewaite, and Dan Silverman analyzed data from the National Longitudinal Survey of Youth (NLSY) 1979 cohort to assess the relationship between height and wages for white men. The NLSY is a nationally representative sample of 12,686 young men and women who were 14–22 years old when they were first surveyed in 1979. These individuals were interviewed annually through 1994 and biannually since then. This data set selected study variables based on the NLSY data. "
      ]
    },
    {
      "cell_type": "markdown",
      "metadata": {
        "id": "xKs9yWkYnlIV",
        "colab_type": "text"
      },
      "source": [
        "**HeightWage_MenWomenUS_HW data**\n",
        "\n",
        "**male**:\tMale (1 = yes, 0 = no)\n",
        "\n",
        "**white**:\tWhite (1 = yes, 0 = no)\n",
        "\n",
        "**black**:\tBlack (1 = yes, 0 = no)\n",
        "\n",
        "**hispanic**:\tHispanic (1 = yes, 0 = no)\n",
        "\n",
        "**wage96**:\tAdult hourly wages (dollars) reported in 1996 (salary and wages in past calendar year divided by hours worked in past calendar year)\n",
        "\n",
        "**height85**:\tAdult height (inches), self-reported in 1985 \n",
        "\n",
        "**height81**:\tAdolescent height (inches), self-reported in 1981 \n",
        "\n",
        "**athlets**:\tParticipation in high school\n",
        "\n",
        "**athletics** (1 = yes, 0 = no)\n",
        "\n",
        "**clubnum**:\tNumber of club memberships in high school, excluding athletics, academic/honor society clubs, and vocational clubs\n",
        "\n",
        "**momed79**:\tMother’s years of education\n",
        "\n",
        "**daded79**:\tFather’s years of education\n",
        "\n",
        "**mompro2**:\tMother in a professional/managerial occupation (1 = yes, 0 = no)\n",
        "\n",
        "**poppro2**:\tFather in a professional/managerial occupation (1 = yes, 0 = no)\n",
        "\n",
        "**siblings**: \tNumber of siblings\n",
        "\n",
        "**age**:\tAge (years) in 1996\n",
        "\n",
        "**esteem80**:\tScore on Rosenberg Self-Esteem Scale as an adolescent in 1980 (higher values indicate higher self-esteem)\n",
        "\n",
        "**hgc96**:\tHighest grade of education completed in 1996\n",
        "\n",
        "**REGION**\t\n",
        "\n",
        "**norest96**:\tNortheast (1 = yes, 0 = no)\n",
        "\n",
        "**norcen96**:\tNorth Central (1 = yes, 0 = no)\n",
        "\n",
        "**south96**:\tSouth (1 = yes, 0 = no)\n",
        "\n",
        "**west96**:\tWest (1 = yes, 0 = no)\n",
        "\n"
      ]
    },
    {
      "cell_type": "code",
      "metadata": {
        "id": "tDBJdb8GqsOU",
        "colab_type": "code",
        "colab": {}
      },
      "source": [
        "import pandas as pd\n",
        "file = \"https://github.com/VitorKamada/ECO5100/raw/master/Data/HeightWage_MenWomenUS_HW.csv\" \n",
        "df = pd.read_csv(file)"
      ],
      "execution_count": 0,
      "outputs": []
    },
    {
      "cell_type": "code",
      "metadata": {
        "id": "2r57zeAPqvcj",
        "colab_type": "code",
        "outputId": "e0665ffe-371f-41ca-a4df-5c0d6455b5bd",
        "colab": {
          "base_uri": "https://localhost:8080/",
          "height": 224
        }
      },
      "source": [
        "df.head()"
      ],
      "execution_count": 2,
      "outputs": [
        {
          "output_type": "execute_result",
          "data": {
            "text/html": [
              "<div>\n",
              "<style scoped>\n",
              "    .dataframe tbody tr th:only-of-type {\n",
              "        vertical-align: middle;\n",
              "    }\n",
              "\n",
              "    .dataframe tbody tr th {\n",
              "        vertical-align: top;\n",
              "    }\n",
              "\n",
              "    .dataframe thead th {\n",
              "        text-align: right;\n",
              "    }\n",
              "</style>\n",
              "<table border=\"1\" class=\"dataframe\">\n",
              "  <thead>\n",
              "    <tr style=\"text-align: right;\">\n",
              "      <th></th>\n",
              "      <th>male</th>\n",
              "      <th>white</th>\n",
              "      <th>black</th>\n",
              "      <th>hispanic</th>\n",
              "      <th>mompro2</th>\n",
              "      <th>poppro2</th>\n",
              "      <th>siblings</th>\n",
              "      <th>norest96</th>\n",
              "      <th>norcen96</th>\n",
              "      <th>south96</th>\n",
              "      <th>west96</th>\n",
              "      <th>height81</th>\n",
              "      <th>height85</th>\n",
              "      <th>esteem80</th>\n",
              "      <th>athlets</th>\n",
              "      <th>wage96</th>\n",
              "      <th>hgc96</th>\n",
              "      <th>daded79</th>\n",
              "      <th>momed79</th>\n",
              "      <th>age</th>\n",
              "      <th>clubnum</th>\n",
              "    </tr>\n",
              "  </thead>\n",
              "  <tbody>\n",
              "    <tr>\n",
              "      <th>0</th>\n",
              "      <td>0</td>\n",
              "      <td>1</td>\n",
              "      <td>0</td>\n",
              "      <td>0</td>\n",
              "      <td>0</td>\n",
              "      <td>0</td>\n",
              "      <td>1</td>\n",
              "      <td>NaN</td>\n",
              "      <td>NaN</td>\n",
              "      <td>NaN</td>\n",
              "      <td>NaN</td>\n",
              "      <td>65.0</td>\n",
              "      <td>NaN</td>\n",
              "      <td>NaN</td>\n",
              "      <td>NaN</td>\n",
              "      <td>NaN</td>\n",
              "      <td>NaN</td>\n",
              "      <td>8.0</td>\n",
              "      <td>8.0</td>\n",
              "      <td>NaN</td>\n",
              "      <td>NaN</td>\n",
              "    </tr>\n",
              "    <tr>\n",
              "      <th>1</th>\n",
              "      <td>0</td>\n",
              "      <td>1</td>\n",
              "      <td>0</td>\n",
              "      <td>0</td>\n",
              "      <td>0</td>\n",
              "      <td>0</td>\n",
              "      <td>8</td>\n",
              "      <td>1.0</td>\n",
              "      <td>0.0</td>\n",
              "      <td>0.0</td>\n",
              "      <td>0.0</td>\n",
              "      <td>62.0</td>\n",
              "      <td>62.0</td>\n",
              "      <td>20.0</td>\n",
              "      <td>0.0</td>\n",
              "      <td>NaN</td>\n",
              "      <td>12.0</td>\n",
              "      <td>8.0</td>\n",
              "      <td>5.0</td>\n",
              "      <td>37.0</td>\n",
              "      <td>2.0</td>\n",
              "    </tr>\n",
              "    <tr>\n",
              "      <th>2</th>\n",
              "      <td>0</td>\n",
              "      <td>1</td>\n",
              "      <td>0</td>\n",
              "      <td>0</td>\n",
              "      <td>0</td>\n",
              "      <td>0</td>\n",
              "      <td>3</td>\n",
              "      <td>0.0</td>\n",
              "      <td>0.0</td>\n",
              "      <td>0.0</td>\n",
              "      <td>1.0</td>\n",
              "      <td>NaN</td>\n",
              "      <td>70.0</td>\n",
              "      <td>24.0</td>\n",
              "      <td>0.0</td>\n",
              "      <td>NaN</td>\n",
              "      <td>12.0</td>\n",
              "      <td>12.0</td>\n",
              "      <td>10.0</td>\n",
              "      <td>34.0</td>\n",
              "      <td>0.0</td>\n",
              "    </tr>\n",
              "    <tr>\n",
              "      <th>3</th>\n",
              "      <td>0</td>\n",
              "      <td>1</td>\n",
              "      <td>0</td>\n",
              "      <td>0</td>\n",
              "      <td>0</td>\n",
              "      <td>0</td>\n",
              "      <td>3</td>\n",
              "      <td>0.0</td>\n",
              "      <td>0.0</td>\n",
              "      <td>0.0</td>\n",
              "      <td>1.0</td>\n",
              "      <td>67.0</td>\n",
              "      <td>67.0</td>\n",
              "      <td>NaN</td>\n",
              "      <td>0.0</td>\n",
              "      <td>14.632107</td>\n",
              "      <td>14.0</td>\n",
              "      <td>12.0</td>\n",
              "      <td>11.0</td>\n",
              "      <td>33.0</td>\n",
              "      <td>0.0</td>\n",
              "    </tr>\n",
              "    <tr>\n",
              "      <th>4</th>\n",
              "      <td>1</td>\n",
              "      <td>1</td>\n",
              "      <td>0</td>\n",
              "      <td>0</td>\n",
              "      <td>0</td>\n",
              "      <td>0</td>\n",
              "      <td>1</td>\n",
              "      <td>NaN</td>\n",
              "      <td>NaN</td>\n",
              "      <td>NaN</td>\n",
              "      <td>NaN</td>\n",
              "      <td>63.0</td>\n",
              "      <td>NaN</td>\n",
              "      <td>23.0</td>\n",
              "      <td>0.0</td>\n",
              "      <td>NaN</td>\n",
              "      <td>NaN</td>\n",
              "      <td>12.0</td>\n",
              "      <td>12.0</td>\n",
              "      <td>NaN</td>\n",
              "      <td>2.0</td>\n",
              "    </tr>\n",
              "  </tbody>\n",
              "</table>\n",
              "</div>"
            ],
            "text/plain": [
              "   male  white  black  hispanic  ...  daded79  momed79   age  clubnum\n",
              "0     0      1      0         0  ...      8.0      8.0   NaN      NaN\n",
              "1     0      1      0         0  ...      8.0      5.0  37.0      2.0\n",
              "2     0      1      0         0  ...     12.0     10.0  34.0      0.0\n",
              "3     0      1      0         0  ...     12.0     11.0  33.0      0.0\n",
              "4     1      1      0         0  ...     12.0     12.0   NaN      2.0\n",
              "\n",
              "[5 rows x 21 columns]"
            ]
          },
          "metadata": {
            "tags": []
          },
          "execution_count": 2
        }
      ]
    },
    {
      "cell_type": "markdown",
      "metadata": {
        "id": "rSlTtygBpo0F",
        "colab_type": "text"
      },
      "source": [
        "(a)\tCreate a scatterplot of adult wages against adult height. What does this plot suggest about the relationship between height and wages?"
      ]
    },
    {
      "cell_type": "markdown",
      "metadata": {
        "id": "IQ-x1yMhqGJL",
        "colab_type": "text"
      },
      "source": [
        "The scatterplot is below, jittered to help us see individual observations. It’s pretty hard to see a relationship. One concern may be the existence of a few outliers that could affect the results, particularly the one observation with an hourly wage exceeding $700. There are also a few extreme values of height, suggesting the possibility of some measurement error."
      ]
    },
    {
      "cell_type": "code",
      "metadata": {
        "id": "MCXPy3ZfpgWb",
        "colab_type": "code",
        "colab": {
          "base_uri": "https://localhost:8080/",
          "height": 300
        },
        "outputId": "8d153a9c-cb22-438e-9903-6ad8933d2d49"
      },
      "source": [
        "import matplotlib.pyplot as plt\n",
        "plt.scatter(df[\"height85\"], df[\"wage96\"])\n",
        "plt.xlabel('Adult Height (inches)')\n",
        "plt.ylabel('Hourly Wage in 1986')"
      ],
      "execution_count": 3,
      "outputs": [
        {
          "output_type": "execute_result",
          "data": {
            "text/plain": [
              "Text(0, 0.5, 'Hourly Wage in 1986')"
            ]
          },
          "metadata": {
            "tags": []
          },
          "execution_count": 3
        },
        {
          "output_type": "display_data",
          "data": {
            "image/png": "[encoded data removed]",
            "text/plain": [
              "<Figure size 432x288 with 1 Axes>"
            ]
          },
          "metadata": {
            "tags": []
          }
        }
      ]
    },
    {
      "cell_type": "markdown",
      "metadata": {
        "id": "OR-R0dLZqeZC",
        "colab_type": "text"
      },
      "source": [
        "(b)\tEstimate an OLS regression in which adult wages is regressed on adult height for all respondents. Report the estimated regression equation and interpret the results, explaining in particular what the p value means."
      ]
    },
    {
      "cell_type": "markdown",
      "metadata": {
        "id": "5nyjPeYqqfTy",
        "colab_type": "text"
      },
      "source": [
        "The regression suggests that a 1-inch increase in adult height is associated with an increase of $0.31 in hourly wages. That’s not bad, especially when considered over the course of many years. The p value indicates that there is a 0.00 probability of observing a coefficient as high as we actually do if the true value were zero (given the estimated standard error). There is not literally a 0 percent chance, but with rounding we can say it is zero to three decimal points."
      ]
    },
    {
      "cell_type": "code",
      "metadata": {
        "id": "sp3hGrz5_oCm",
        "colab_type": "code",
        "colab": {}
      },
      "source": [
        "import numpy as np            \n",
        "df['const'] = 1"
      ],
      "execution_count": 0,
      "outputs": []
    },
    {
      "cell_type": "code",
      "metadata": {
        "id": "kHM50zHcIo62",
        "colab_type": "code",
        "outputId": "356ea0e2-9c0b-47e3-ac4f-446d25d85fe8",
        "colab": {
          "base_uri": "https://localhost:8080/",
          "height": 489
        }
      },
      "source": [
        "import statsmodels.api as sm\n",
        "naive = sm.OLS(df['wage96'], df[['const', 'height85']],\n",
        "                    missing='drop').fit()\n",
        "print(naive.summary())"
      ],
      "execution_count": 5,
      "outputs": [
        {
          "output_type": "stream",
          "text": [
            "                            OLS Regression Results                            \n",
            "==============================================================================\n",
            "Dep. Variable:                 wage96   R-squared:                       0.002\n",
            "Model:                            OLS   Adj. R-squared:                  0.002\n",
            "Method:                 Least Squares   F-statistic:                     14.59\n",
            "Date:                Sun, 06 Oct 2019   Prob (F-statistic):           0.000135\n",
            "Time:                        01:40:50   Log-Likelihood:                -31816.\n",
            "No. Observations:                6713   AIC:                         6.364e+04\n",
            "Df Residuals:                    6711   BIC:                         6.365e+04\n",
            "Df Model:                           1                                         \n",
            "Covariance Type:            nonrobust                                         \n",
            "==============================================================================\n",
            "                 coef    std err          t      P>|t|      [0.025      0.975]\n",
            "------------------------------------------------------------------------------\n",
            "const         -6.9768      5.559     -1.255      0.210     -17.874       3.921\n",
            "height85       0.3148      0.082      3.820      0.000       0.153       0.476\n",
            "==============================================================================\n",
            "Omnibus:                    18019.643   Durbin-Watson:                   1.953\n",
            "Prob(Omnibus):                  0.000   Jarque-Bera (JB):        653911023.402\n",
            "Skew:                          32.277   Prob(JB):                         0.00\n",
            "Kurtosis:                    1530.634   Cond. No.                     1.11e+03\n",
            "==============================================================================\n",
            "\n",
            "Warnings:\n",
            "[1] Standard Errors assume that the covariance matrix of the errors is correctly specified.\n",
            "[2] The condition number is large, 1.11e+03. This might indicate that there are\n",
            "strong multicollinearity or other numerical problems.\n"
          ],
          "name": "stdout"
        }
      ]
    },
    {
      "cell_type": "markdown",
      "metadata": {
        "id": "b9SALweSq3JC",
        "colab_type": "text"
      },
      "source": [
        "(c)\tAssess whether the null hypothesis that the coefficient on height81 equals 0 is rejected at the 0.05 significance level for one-sided and for two-sided hypothesis tests."
      ]
    },
    {
      "cell_type": "markdown",
      "metadata": {
        "id": "JzfjIIseq3kZ",
        "colab_type": "text"
      },
      "source": [
        "For a one-sided hypothesis test at the 0.05 significance level we reject the null hypothesis because the (absolute value of the) t statistic is greater than 1.64, which is the critical value for such a test.\n",
        "For a two-sided hypothesis test at the 0.05 significance level we reject the null hypothesis because the (absolute value of the) t statistic is greater than 1.96, which is the critical value for such a test. \n"
      ]
    },
    {
      "cell_type": "markdown",
      "metadata": {
        "id": "yQZgQK2LsLwp",
        "colab_type": "text"
      },
      "source": [
        "(d)\tEstimate an OLS regression in which adult wages is regressed on adult height and adolescent height for all respondents. Discuss differences across this model and  item (b). Explain why the coefficient on adult height changed."
      ]
    },
    {
      "cell_type": "markdown",
      "metadata": {
        "id": "A3JzR7qFs6bU",
        "colab_type": "text"
      },
      "source": [
        "The results are given below. In the model with only adult height, there is a strong relationship between height and wages. When we add adolescent height, however, the coefficient on adult height becomes negative and statistically insignificant (with a p value of 0.66). The coefficient on adolescent height is not statistically significant at alpha = 0.05 (but is significant at alpha = 0.10).\n",
        "We can explain the change in coefficient on adult height using the logic of omitted variable bias. Adult height and adolescent height are correlated and it appears adolescent height has a direct effect on wages. Hence, when only adult height was in the model, the coefficient on adult height was inflated by the fact that adult height is correlated with adolescent height and adolescent height (the omitted variable) has an effect on wages.\n"
      ]
    },
    {
      "cell_type": "code",
      "metadata": {
        "id": "_XyjUJdSsMMB",
        "colab_type": "code",
        "colab": {
          "base_uri": "https://localhost:8080/",
          "height": 507
        },
        "outputId": "f9b65f57-471c-4679-cbda-12bf5421b5e9"
      },
      "source": [
        "import statsmodels.api as sm\n",
        "Reg1 = sm.OLS(df['wage96'], df[['const', 'height85','height81']],\n",
        "                    missing='drop').fit()\n",
        "print(Reg1.summary())"
      ],
      "execution_count": 6,
      "outputs": [
        {
          "output_type": "stream",
          "text": [
            "                            OLS Regression Results                            \n",
            "==============================================================================\n",
            "Dep. Variable:                 wage96   R-squared:                       0.003\n",
            "Model:                            OLS   Adj. R-squared:                  0.002\n",
            "Method:                 Least Squares   F-statistic:                     8.873\n",
            "Date:                Sun, 06 Oct 2019   Prob (F-statistic):           0.000142\n",
            "Time:                        01:40:50   Log-Likelihood:                -31302.\n",
            "No. Observations:                6594   AIC:                         6.261e+04\n",
            "Df Residuals:                    6591   BIC:                         6.263e+04\n",
            "Df Model:                           2                                         \n",
            "Covariance Type:            nonrobust                                         \n",
            "==============================================================================\n",
            "                 coef    std err          t      P>|t|      [0.025      0.975]\n",
            "------------------------------------------------------------------------------\n",
            "const         -9.2483      5.775     -1.601      0.109     -20.569       2.072\n",
            "height85      -0.1068      0.243     -0.440      0.660      -0.582       0.369\n",
            "height81       0.4575      0.246      1.860      0.063      -0.025       0.940\n",
            "==============================================================================\n",
            "Omnibus:                    17663.286   Durbin-Watson:                   1.953\n",
            "Prob(Omnibus):                  0.000   Jarque-Bera (JB):        625774292.955\n",
            "Skew:                          32.099   Prob(JB):                         0.00\n",
            "Kurtosis:                    1510.810   Cond. No.                     1.60e+03\n",
            "==============================================================================\n",
            "\n",
            "Warnings:\n",
            "[1] Standard Errors assume that the covariance matrix of the errors is correctly specified.\n",
            "[2] The condition number is large, 1.6e+03. This might indicate that there are\n",
            "strong multicollinearity or other numerical problems.\n"
          ],
          "name": "stdout"
        }
      ]
    },
    {
      "cell_type": "markdown",
      "metadata": {
        "id": "6gb6Es7bthQ5",
        "colab_type": "text"
      },
      "source": [
        "(e)\tNote that IQ is omitted from the model. Is this a problem? Why or why not?"
      ]
    },
    {
      "cell_type": "markdown",
      "metadata": {
        "id": "Wy_RZHrAtoUR",
        "colab_type": "text"
      },
      "source": [
        "Omitted variable bias occurs if (a) the omitted variable affects the dependent variable and (b) the variable in question is correlated with the omitted variable. Part (a) is highly plausible in this case because intelligence probably helps raise wages. Part (b) is more debatable. There is no obvious correlation between height and intelligence. A quick trip to Wikipedia (http://en.wikipedia.org/wiki/Height_and_intelligence/) indicates some evidence of a small positive correlation. So, yes, this could be a problem and would bias the coefficient on height upward, but the magnitude of omitted variable depends on the magnitude of the correlation so this is unlikely to be a devastating problem."
      ]
    },
    {
      "cell_type": "markdown",
      "metadata": {
        "id": "SYSgVaNPtwx5",
        "colab_type": "text"
      },
      "source": [
        "(f)\tNote that eye color is omitted from the model. Is this a problem? Why or why not?"
      ]
    },
    {
      "cell_type": "markdown",
      "metadata": {
        "id": "Fx1VgWWvtw8Y",
        "colab_type": "text"
      },
      "source": [
        "As noted in the answer to part (c), omitted variable bias occurs if (a) the omitted variable affects the dependent variable and (b) the variable in question is correlated with the omitted variable. Part (a) is unlikely to be true because the effect of eye color on wages is, at most, very small. Part (b) is also unlikely to be true, although it is possible that people from some parts of the world are more likely to have certain eye colors and be taller or shorter than the world average."
      ]
    }
  ]
}